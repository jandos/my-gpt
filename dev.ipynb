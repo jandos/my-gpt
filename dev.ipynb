{
 "cells": [
  {
   "cell_type": "code",
   "execution_count": 1,
   "metadata": {},
   "outputs": [
    {
     "name": "stdout",
     "output_type": "stream",
     "text": [
      "1115394\n"
     ]
    }
   ],
   "source": [
    "with open(\"./data/tinyshakespeare.txt\", \"r\", encoding=\"utf-8\") as f:\n",
    "    text = f.read()\n",
    "print(len(text))"
   ]
  },
  {
   "cell_type": "code",
   "execution_count": 2,
   "metadata": {},
   "outputs": [
    {
     "name": "stdout",
     "output_type": "stream",
     "text": [
      "\n",
      " !$&',-.3:;?ABCDEFGHIJKLMNOPQRSTUVWXYZabcdefghijklmnopqrstuvwxyz\n",
      "Vocab size: 65\n"
     ]
    }
   ],
   "source": [
    "# we will use character generation (not token) at first\n",
    "# therefore our vocabulary will be based on chars\n",
    "chars = sorted(list(set(text)))\n",
    "vocab_size = len(chars)\n",
    "print(\"\".join(chars))\n",
    "print(f\"Vocab size: {vocab_size}\")\n",
    "\n",
    "# naive character level tokenizer\n",
    "stoi = {ch: i for i, ch in enumerate(chars)}\n",
    "itos = {i: ch for i, ch in enumerate(chars)}\n",
    "\n",
    "\n",
    "def encode(input: str) -> list:\n",
    "    \"\"\"Encodes a string character by character.\"\"\"\n",
    "    return [stoi[ch] for ch in input]\n",
    "\n",
    "\n",
    "def decode(input: list[int]) -> str:\n",
    "    \"\"\"Decodes an encoded list of integers back into original string\"\"\"\n",
    "    return \"\".join([itos[i] for i in input])"
   ]
  },
  {
   "cell_type": "code",
   "execution_count": 3,
   "metadata": {},
   "outputs": [
    {
     "name": "stdout",
     "output_type": "stream",
     "text": [
      "torch.Size([1115394]) torch.int64\n"
     ]
    }
   ],
   "source": [
    "# encode the whole training data\n",
    "import torch\n",
    "\n",
    "data = torch.tensor(encode(text), dtype=torch.long)\n",
    "print(data.shape, data.dtype)"
   ]
  },
  {
   "cell_type": "code",
   "execution_count": 4,
   "metadata": {},
   "outputs": [],
   "source": [
    "# split the dataset to train/validation\n",
    "n = int(0.9 * len(data))\n",
    "train_data = data[:n]\n",
    "val_data = data[n:]"
   ]
  },
  {
   "cell_type": "code",
   "execution_count": 5,
   "metadata": {},
   "outputs": [
    {
     "name": "stdout",
     "output_type": "stream",
     "text": [
      "tensor([[24, 43, 58,  5, 57,  1, 46, 43],\n",
      "        [44, 53, 56,  1, 58, 46, 39, 58],\n",
      "        [52, 58,  1, 58, 46, 39, 58,  1],\n",
      "        [25, 17, 27, 10,  0, 21,  1, 54]])\n",
      "tensor([[43, 58,  5, 57,  1, 46, 43, 39],\n",
      "        [53, 56,  1, 58, 46, 39, 58,  1],\n",
      "        [58,  1, 58, 46, 39, 58,  1, 46],\n",
      "        [17, 27, 10,  0, 21,  1, 54, 39]])\n"
     ]
    }
   ],
   "source": [
    "# split data into batches of block size\n",
    "# block size (context size) - the size of chunk of data which can be used for training\n",
    "# given a block like \"abcd1234\" we have 8 different training examples:\n",
    "# - given \"a\" -> predict \"b\"\n",
    "# - \"ab\" -> \"c\"\n",
    "# - \"abc\" -> \"d\"\n",
    "# etc\n",
    "# so if X = \"abcd1234\", then Y = \"bcd12345\" (shifted +1 by index)\n",
    "\n",
    "block_size = 8\n",
    "batch_size = 4\n",
    "torch.manual_seed(1337)\n",
    "\n",
    "\n",
    "def get_batch(data: torch.Tensor) -> tuple[torch.Tensor, torch.Tensor]:\n",
    "    \"\"\"\n",
    "    Returns `batch_size` number of random batches for X and Y\n",
    "    where each batch is of size `block_size`\n",
    "    \"\"\"\n",
    "    ids = torch.randint(len(data) - block_size, (batch_size,))\n",
    "    x = torch.stack([data[i : i + block_size] for i in ids])\n",
    "    y = torch.stack([data[i + 1 : i + block_size + 1] for i in ids])\n",
    "    return x, y\n",
    "\n",
    "\n",
    "x_train, y_train = get_batch(train_data)\n",
    "print(x_train)\n",
    "print(y_train)"
   ]
  },
  {
   "cell_type": "code",
   "execution_count": 7,
   "metadata": {},
   "outputs": [
    {
     "name": "stdout",
     "output_type": "stream",
     "text": [
      "torch.Size([32, 65])\n",
      "tensor(4.7288, grad_fn=<NllLossBackward0>)\n",
      "\n",
      "t:lwIJyIhwyVOhVQ:!KvGyNgNggOC\n",
      "?Boz aUg3?SjDYyxp-w,KpwTsw:n-dH.CWNuAV?'VhrqFH$gOYuXsMdvypXVwtsw'vAn3y\n"
     ]
    }
   ],
   "source": [
    "# Use Bigram language model, which given one token, can predict the next token\n",
    "from bigram import BigramLM\n",
    "\n",
    "\n",
    "model = BigramLM(vocab_size=vocab_size)\n",
    "logits, loss = model(x_train, y_train)\n",
    "print(logits.shape)\n",
    "print(loss)\n",
    "\n",
    "# test run on untrained model\n",
    "# starting point is a single character, whose token is equal to 0\n",
    "idx = torch.zeros((1, 1), dtype=torch.long)\n",
    "idx = model.generate(idx, 100)\n",
    "text = decode(idx[0].tolist())\n",
    "print(text)"
   ]
  }
 ],
 "metadata": {
  "kernelspec": {
   "display_name": ".venv",
   "language": "python",
   "name": "python3"
  },
  "language_info": {
   "codemirror_mode": {
    "name": "ipython",
    "version": 3
   },
   "file_extension": ".py",
   "mimetype": "text/x-python",
   "name": "python",
   "nbconvert_exporter": "python",
   "pygments_lexer": "ipython3",
   "version": "3.12.2"
  }
 },
 "nbformat": 4,
 "nbformat_minor": 2
}
